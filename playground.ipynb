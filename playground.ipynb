{
 "cells": [
  {
   "cell_type": "code",
   "execution_count": 1,
   "id": "ad9fcbe5",
   "metadata": {},
   "outputs": [],
   "source": [
    "# multiplicacion de vectores\n",
    "x = [4, 5, 6, 7, 8, 9, 10]\n",
    "y = [1, 2, 3, 4, 5, 6, 7]"
   ]
  },
  {
   "cell_type": "code",
   "execution_count": 1,
   "id": "c71716f0",
   "metadata": {},
   "outputs": [
    {
     "name": "stdout",
     "output_type": "stream",
     "text": [
      "Iter  1: w = 3.2000, J(w) = 10.2400\n",
      "Iter  2: w = 2.5600, J(w) = 6.5536\n",
      "Iter  3: w = 2.0480, J(w) = 4.1943\n",
      "Iter  4: w = 1.6384, J(w) = 2.6844\n",
      "Iter  5: w = 1.3107, J(w) = 1.7180\n",
      "Iter  6: w = 1.0486, J(w) = 1.0995\n",
      "Iter  7: w = 0.8389, J(w) = 0.7037\n",
      "Iter  8: w = 0.6711, J(w) = 0.4504\n",
      "Iter  9: w = 0.5369, J(w) = 0.2882\n",
      "Iter 10: w = 0.4295, J(w) = 0.1845\n"
     ]
    }
   ],
   "source": [
    "# gradiente descendente simple\n",
    "import numpy as np\n",
    "\n",
    "# 1. Definimos la función de costo J(w) y su derivada\n",
    "def J(w):\n",
    "    return w**2\n",
    "\n",
    "def dJ(w):\n",
    "    return 2*w\n",
    "\n",
    "# 2. Hiperparámetros y punto de inicio\n",
    "alpha = 0.1       # tasa de aprendizaje\n",
    "w = 4.0           # valor inicial de w\n",
    "n_iters = 10      # número de iteraciones\n",
    "\n",
    "# 3. Bucle de descenso por gradiente\n",
    "for t in range(n_iters):\n",
    "    grad = dJ(w)               # calculamos el gradiente en w\n",
    "    w = w - alpha * grad       # actualizamos w\n",
    "    print(f\"Iter {t+1:2d}: w = {w:.4f}, J(w) = {J(w):.4f}\")"
   ]
  }
 ],
 "metadata": {
  "kernelspec": {
   "display_name": "base",
   "language": "python",
   "name": "python3"
  },
  "language_info": {
   "codemirror_mode": {
    "name": "ipython",
    "version": 3
   },
   "file_extension": ".py",
   "mimetype": "text/x-python",
   "name": "python",
   "nbconvert_exporter": "python",
   "pygments_lexer": "ipython3",
   "version": "3.11.5"
  }
 },
 "nbformat": 4,
 "nbformat_minor": 5
}
